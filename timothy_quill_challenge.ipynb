{
  "nbformat": 4,
  "nbformat_minor": 0,
  "metadata": {
    "colab": {
      "name": "timothy_quill_challenge.ipynb",
      "version": "0.3.2",
      "provenance": [],
      "include_colab_link": true
    },
    "kernelspec": {
      "display_name": "Python 3",
      "language": "python",
      "name": "python3"
    }
  },
  "cells": [
    {
      "cell_type": "markdown",
      "metadata": {
        "id": "view-in-github",
        "colab_type": "text"
      },
      "source": [
        "<a href=\"https://colab.research.google.com/github/TimothyQuill/TimothyQuill.github.io/blob/master/timothy_quill_challenge.ipynb\" target=\"_parent\"><img src=\"https://colab.research.google.com/assets/colab-badge.svg\" alt=\"Open In Colab\"/></a>"
      ]
    },
    {
      "cell_type": "markdown",
      "metadata": {
        "id": "jtnx9Qybk8kD",
        "colab_type": "text"
      },
      "source": [
        "# Challenge Problem - Global Terrorist Attacks\n",
        "\n",
        "### For this challenge I will be using the Global Terrorism Database (GTD) open-source database to build a model that can predict what group may have been responsible for an incident.\n",
        "\n",
        "### Before I create the model I will begin by cleaning the data. I'll start by importing the Excel file into Python:"
      ]
    },
    {
      "cell_type": "code",
      "metadata": {
        "id": "RVJFhr0ck8kG",
        "colab_type": "code",
        "colab": {}
      },
      "source": [
        "import numpy as np\n",
        "import pandas as pd\n",
        "import os\n",
        "import datetime\n",
        "import math\n",
        "\n",
        "# get the path to the current working directory\n",
        "cwd = os.getcwd()\n",
        "\n",
        "# then add the name of the Excel file\n",
        "file_path = \"globalterrorismdb_0718dist.xlsx\"\n",
        "\n",
        "# Copy the database to file\n",
        "df = pd.read_excel(file_path)"
      ],
      "execution_count": 0,
      "outputs": []
    },
    {
      "cell_type": "markdown",
      "metadata": {
        "id": "n4NSSzb7k8kM",
        "colab_type": "text"
      },
      "source": [
        "### Lets inspect the data:"
      ]
    },
    {
      "cell_type": "code",
      "metadata": {
        "scrolled": true,
        "id": "qhVDz5X3k8kO",
        "colab_type": "code",
        "outputId": "017349bd-c3c5-49da-a9ec-9a961a5d4fc1",
        "colab": {}
      },
      "source": [
        "# Print the number of rows in the data frame\n",
        "print(\"Total rows: {0}\".format(len(df)))\n",
        "\n",
        "# View the first 3 rows of each column\n",
        "print(df.loc[:3, :])\n",
        "\n",
        "# View the column titles\n",
        "print(list(df))\n",
        "\n",
        "# find which columns have NaNs\n",
        "print(df.columns[df.isna().any()].tolist())"
      ],
      "execution_count": 0,
      "outputs": [
        {
          "output_type": "stream",
          "text": [
            "Total rows: 181691\n",
            "        eventid  iyear  imonth  iday approxdate  extended resolution  country  \\\n",
            "0  197000000001   1970       7     2        NaN         0        NaT       58   \n",
            "1  197000000002   1970       0     0        NaN         0        NaT      130   \n",
            "2  197001000001   1970       1     0        NaN         0        NaT      160   \n",
            "3  197001000002   1970       1     0        NaN         0        NaT       78   \n",
            "\n",
            "          country_txt  region   ...    addnotes scite1 scite2  scite3  \\\n",
            "0  Dominican Republic       2   ...         NaN    NaN    NaN     NaN   \n",
            "1              Mexico       1   ...         NaN    NaN    NaN     NaN   \n",
            "2         Philippines       5   ...         NaN    NaN    NaN     NaN   \n",
            "3              Greece       8   ...         NaN    NaN    NaN     NaN   \n",
            "\n",
            "   dbsource  INT_LOG  INT_IDEO INT_MISC INT_ANY  related  \n",
            "0      PGIS        0         0        0       0      NaN  \n",
            "1      PGIS        0         1        1       1      NaN  \n",
            "2      PGIS       -9        -9        1       1      NaN  \n",
            "3      PGIS       -9        -9        1       1      NaN  \n",
            "\n",
            "[4 rows x 135 columns]\n",
            "['eventid', 'iyear', 'imonth', 'iday', 'approxdate', 'extended', 'resolution', 'country', 'country_txt', 'region', 'region_txt', 'provstate', 'city', 'latitude', 'longitude', 'specificity', 'vicinity', 'location', 'summary', 'crit1', 'crit2', 'crit3', 'doubtterr', 'alternative', 'alternative_txt', 'multiple', 'success', 'suicide', 'attacktype1', 'attacktype1_txt', 'attacktype2', 'attacktype2_txt', 'attacktype3', 'attacktype3_txt', 'targtype1', 'targtype1_txt', 'targsubtype1', 'targsubtype1_txt', 'corp1', 'target1', 'natlty1', 'natlty1_txt', 'targtype2', 'targtype2_txt', 'targsubtype2', 'targsubtype2_txt', 'corp2', 'target2', 'natlty2', 'natlty2_txt', 'targtype3', 'targtype3_txt', 'targsubtype3', 'targsubtype3_txt', 'corp3', 'target3', 'natlty3', 'natlty3_txt', 'gname', 'gsubname', 'gname2', 'gsubname2', 'gname3', 'gsubname3', 'motive', 'guncertain1', 'guncertain2', 'guncertain3', 'individual', 'nperps', 'nperpcap', 'claimed', 'claimmode', 'claimmode_txt', 'claim2', 'claimmode2', 'claimmode2_txt', 'claim3', 'claimmode3', 'claimmode3_txt', 'compclaim', 'weaptype1', 'weaptype1_txt', 'weapsubtype1', 'weapsubtype1_txt', 'weaptype2', 'weaptype2_txt', 'weapsubtype2', 'weapsubtype2_txt', 'weaptype3', 'weaptype3_txt', 'weapsubtype3', 'weapsubtype3_txt', 'weaptype4', 'weaptype4_txt', 'weapsubtype4', 'weapsubtype4_txt', 'weapdetail', 'nkill', 'nkillus', 'nkillter', 'nwound', 'nwoundus', 'nwoundte', 'property', 'propextent', 'propextent_txt', 'propvalue', 'propcomment', 'ishostkid', 'nhostkid', 'nhostkidus', 'nhours', 'ndays', 'divert', 'kidhijcountry', 'ransom', 'ransomamt', 'ransomamtus', 'ransompaid', 'ransompaidus', 'ransomnote', 'hostkidoutcome', 'hostkidoutcome_txt', 'nreleased', 'addnotes', 'scite1', 'scite2', 'scite3', 'dbsource', 'INT_LOG', 'INT_IDEO', 'INT_MISC', 'INT_ANY', 'related']\n",
            "['approxdate', 'resolution', 'provstate', 'city', 'latitude', 'longitude', 'specificity', 'location', 'summary', 'doubtterr', 'alternative', 'alternative_txt', 'multiple', 'attacktype2', 'attacktype2_txt', 'attacktype3', 'attacktype3_txt', 'targsubtype1', 'targsubtype1_txt', 'corp1', 'target1', 'natlty1', 'natlty1_txt', 'targtype2', 'targtype2_txt', 'targsubtype2', 'targsubtype2_txt', 'corp2', 'target2', 'natlty2', 'natlty2_txt', 'targtype3', 'targtype3_txt', 'targsubtype3', 'targsubtype3_txt', 'corp3', 'target3', 'natlty3', 'natlty3_txt', 'gsubname', 'gname2', 'gsubname2', 'gname3', 'gsubname3', 'motive', 'guncertain1', 'guncertain2', 'guncertain3', 'nperps', 'nperpcap', 'claimed', 'claimmode', 'claimmode_txt', 'claim2', 'claimmode2', 'claimmode2_txt', 'claim3', 'claimmode3', 'claimmode3_txt', 'compclaim', 'weapsubtype1', 'weapsubtype1_txt', 'weaptype2', 'weaptype2_txt', 'weapsubtype2', 'weapsubtype2_txt', 'weaptype3', 'weaptype3_txt', 'weapsubtype3', 'weapsubtype3_txt', 'weaptype4', 'weaptype4_txt', 'weapsubtype4', 'weapsubtype4_txt', 'weapdetail', 'nkill', 'nkillus', 'nkillter', 'nwound', 'nwoundus', 'nwoundte', 'propextent', 'propextent_txt', 'propvalue', 'propcomment', 'ishostkid', 'nhostkid', 'nhostkidus', 'nhours', 'ndays', 'divert', 'kidhijcountry', 'ransom', 'ransomamt', 'ransomamtus', 'ransompaid', 'ransompaidus', 'ransomnote', 'hostkidoutcome', 'hostkidoutcome_txt', 'nreleased', 'addnotes', 'scite1', 'scite2', 'scite3', 'related']\n"
          ],
          "name": "stdout"
        }
      ]
    },
    {
      "cell_type": "markdown",
      "metadata": {
        "id": "b0Sw4WV0k8kW",
        "colab_type": "text"
      },
      "source": [
        "### We'll remove the columns that aren't useful for our analysis:\n",
        "###   -  all of the string-based columns that have a numerical equivalent can be cut, as they are redundant\n",
        "###   -  'approxdate' isn't very useful because most rows are missing a values and the date is already provided in other columns\n",
        "###   -  'summary' is expensive data-wise, and the information is repeated from whats available in other variables\n",
        "###   -  none of the reference columns: ('scite1', 'scite2', 'scite3', 'dbsource') provide any useful info for our query\n",
        "###   -  'addnotes', 'propcomment', 'related' and 'motive' have some valuable info, such as related attacks, however accessing it in a meaningful way will be difficult under the time constraint of this challenge, so it will be a secondary priority for now\n",
        "###   -  'resolution' is redundant because 'nhours' provides the length of the incident in a more useful way"
      ]
    },
    {
      "cell_type": "code",
      "metadata": {
        "id": "a1slOhY_k8kY",
        "colab_type": "code",
        "outputId": "893d3bad-c7f5-41bb-b72d-2ced1d20759f",
        "colab": {}
      },
      "source": [
        "# store all of the _txt columns in a list for easy access\n",
        "txt_columns = [s for s in list(df) if \"_txt\" in s]\n",
        "\n",
        "# drop the unhelpful columns from the data frame\n",
        "columns = [*txt_columns, 'approxdate', 'summary', 'addnotes', 'scite1', 'scite2', 'scite3', 'dbsource', 'weapdetail',\n",
        "           'resolution', 'ransomnote', 'motive', 'propcomment', 'related']\n",
        "df.drop(columns, inplace=True, axis=1)\n",
        "\n",
        "# check that the dataframe has been updated correctly\n",
        "print(list(df))\n",
        "\n",
        "# also, the dataset is far too big for my computer to work with given the short amount of time to complete this\n",
        "# challenge, so I will use a random subset of the data to work with:\n",
        "df = df.sample(10000)\n",
        "# and reset the index\n",
        "df = df.reset_index(drop=True)\n",
        "# Make sure the number of rows was reduced\n",
        "print(\"Total rows: {0}\".format(len(df)))"
      ],
      "execution_count": 0,
      "outputs": [
        {
          "output_type": "stream",
          "text": [
            "['eventid', 'iyear', 'imonth', 'iday', 'extended', 'country', 'region', 'provstate', 'city', 'latitude', 'longitude', 'specificity', 'vicinity', 'location', 'crit1', 'crit2', 'crit3', 'doubtterr', 'alternative', 'multiple', 'success', 'suicide', 'attacktype1', 'attacktype2', 'attacktype3', 'targtype1', 'targsubtype1', 'corp1', 'target1', 'natlty1', 'targtype2', 'targsubtype2', 'corp2', 'target2', 'natlty2', 'targtype3', 'targsubtype3', 'corp3', 'target3', 'natlty3', 'gname', 'gsubname', 'gname2', 'gsubname2', 'gname3', 'gsubname3', 'guncertain1', 'guncertain2', 'guncertain3', 'individual', 'nperps', 'nperpcap', 'claimed', 'claimmode', 'claim2', 'claimmode2', 'claim3', 'claimmode3', 'compclaim', 'weaptype1', 'weapsubtype1', 'weaptype2', 'weapsubtype2', 'weaptype3', 'weapsubtype3', 'weaptype4', 'weapsubtype4', 'nkill', 'nkillus', 'nkillter', 'nwound', 'nwoundus', 'nwoundte', 'property', 'propextent', 'propvalue', 'ishostkid', 'nhostkid', 'nhostkidus', 'nhours', 'ndays', 'divert', 'kidhijcountry', 'ransom', 'ransomamt', 'ransomamtus', 'ransompaid', 'ransompaidus', 'hostkidoutcome', 'nreleased', 'INT_LOG', 'INT_IDEO', 'INT_MISC', 'INT_ANY']\n",
            "Total rows: 10000\n"
          ],
          "name": "stdout"
        }
      ]
    },
    {
      "cell_type": "markdown",
      "metadata": {
        "id": "yKHox6lQk8kd",
        "colab_type": "text"
      },
      "source": [
        "### Now we'll do some cleaning. There are lots of missing values in the dataframe which is likely to effect our model. So we'll need to fill them. The missing data columns vary greatly:  some columns are metric whilst others are categorical, some rows are left intentionally blank e.g. values for most rows of 'attacktype2' are empty because a second attack didn't occur in most recordings, whilst others are blank due to a lack of information, e.g. 'location'. So we'll have to handle missing data on a column by column basis.\n",
        "\n",
        "### Lets start with the 'eventid', which is the primary key for the dataset. Each value has to be unique, so we can just arbitrarily set any missing values to their index, as the official recorded numbers don't start until 197000000001, so there wont be any overlap:"
      ]
    },
    {
      "cell_type": "code",
      "metadata": {
        "id": "O2elnP40k8kf",
        "colab_type": "code",
        "colab": {}
      },
      "source": [
        "df['eventid'] = [idx if math.isnan(x) else x for idx, x in enumerate(df['eventid'].tolist())]"
      ],
      "execution_count": 0,
      "outputs": []
    },
    {
      "cell_type": "markdown",
      "metadata": {
        "id": "Tes6jdKWk8kj",
        "colab_type": "text"
      },
      "source": [
        "### Now lets deal with the string-based categorical values. Firstly, the NaN values of the following categorical numerical columns will be replaced with 'None', which represents a valid category. It can be assumed from their large number of empty columns and their unlikelihood of occurring that the empty values are deliberate and signify that no instances of the value occurred:"
      ]
    },
    {
      "cell_type": "code",
      "metadata": {
        "id": "ffns1TR7k8kk",
        "colab_type": "code",
        "colab": {}
      },
      "source": [
        "columns = ['corp2', 'target2', 'corp3', 'target3', 'gsubname', 'gsubname2', 'gsubname3',\n",
        "           'gname2', 'gname3', 'kidhijcountry', 'divert']\n",
        "for col in columns:\n",
        "    df[col].fillna('None', inplace=True)\n",
        "\n",
        "# We'll leave the 'gname' Unknowns as is, cause it's going to be our dv:\n",
        "df['gname'].fillna('Unknown', inplace=True)"
      ],
      "execution_count": 0,
      "outputs": []
    },
    {
      "cell_type": "markdown",
      "metadata": {
        "id": "r3ZqFEdrk8ko",
        "colab_type": "text"
      },
      "source": [
        "### The small number of empty rows in the rest of the string-based categorical columns as well as their likelihood  (or certainty) of occurring suggest that the empty values are missing and signify that the correct data wasn't available, so they will be set to the mode, however they will be temporarily set to 999:"
      ]
    },
    {
      "cell_type": "code",
      "metadata": {
        "id": "ijfbSw2Qk8kp",
        "colab_type": "code",
        "colab": {}
      },
      "source": [
        "columns = ['location', 'corp1', 'target1', 'provstate', 'city', 'country', 'region', 'gname']\n",
        "for col in columns:\n",
        "    df[col].fillna(999, inplace=True)"
      ],
      "execution_count": 0,
      "outputs": []
    },
    {
      "cell_type": "markdown",
      "metadata": {
        "id": "Iv5SwM4pk8kt",
        "colab_type": "text"
      },
      "source": [
        "### Next we need to convert the string-based categorical columns to a numerical index, so that they can be processed correctly by the model:"
      ]
    },
    {
      "cell_type": "code",
      "metadata": {
        "id": "sT2iWbiuk8kw",
        "colab_type": "code",
        "colab": {}
      },
      "source": [
        "columns = ['provstate', 'city', 'location', 'corp1', 'target1', 'corp2', 'target2', 'corp3', 'target3', 'gname',\n",
        "           'gsubname', 'gname2', 'gsubname2', 'gname3', 'gsubname3', 'kidhijcountry', 'divert', 'country', 'region']\n",
        "for col in columns:\n",
        "    df[col] = df[col].astype('category')\n",
        "    df[col] = pd.factorize(df[col])[0]"
      ],
      "execution_count": 0,
      "outputs": []
    },
    {
      "cell_type": "markdown",
      "metadata": {
        "id": "ipJgL6CFk8k1",
        "colab_type": "text"
      },
      "source": [
        "### The NaN values of the following numerical columns will be replaced with 0, which represents a data-point for metric columns and a category for categorical ones. It can be assumed from their large number of empty columns and their unlikelihood of occurring that the empty values are deliberate and signify that no instances of the value occurred:"
      ]
    },
    {
      "cell_type": "code",
      "metadata": {
        "id": "Zs3gx3r8k8k4",
        "colab_type": "code",
        "colab": {}
      },
      "source": [
        "columns = ['attacktype2', 'attacktype3', 'targtype2', 'targsubtype2', 'natlty2', 'latitude', 'longitude',\n",
        "           'targtype3', 'targsubtype3', 'natlty3', 'guncertain2', 'guncertain3', 'nhostkid', 'nhostkidus', 'nhours',\n",
        "           'ndays', 'ransom', 'ransomamt', 'ransomamtus', 'ransompaid', 'ransompaidus', 'hostkidoutcome', 'nreleased',\n",
        "           'extended', 'vicinity', 'crit1', 'crit2', 'crit3']\n",
        "for col in columns:\n",
        "    df[col].fillna(0, inplace=True)"
      ],
      "execution_count": 0,
      "outputs": []
    },
    {
      "cell_type": "markdown",
      "metadata": {
        "id": "-OMrlMV9k8k8",
        "colab_type": "text"
      },
      "source": [
        "### In the following numerical columns, the small number of empty rows as well as their likelihood (or certainty) of occurring suggest that the empty values are missing and signify that the correct data wasn't available, so they will be set to the mode:"
      ]
    },
    {
      "cell_type": "code",
      "metadata": {
        "id": "zAdM29eSk8k9",
        "colab_type": "code",
        "colab": {}
      },
      "source": [
        "columns = ['alternative', 'success', 'claimed', 'claim2', 'claim3', 'compclaim', 'claimmode', 'claimmode2', 'location',\n",
        "           'claimmode3', 'weaptype1', 'weaptype2', 'weaptype3', 'weaptype4', 'weapsubtype1', 'weapsubtype2',\n",
        "           'weapsubtype3','weapsubtype4', 'propextent', 'doubtterr', 'INT_LOG', 'INT_IDEO', 'INT_MISC', 'INT_ANY',\n",
        "           'attacktype1', 'corp1', 'target1', 'provstate', 'city', 'country', 'region', 'multiple', 'suicide',\n",
        "           'targsubtype1', 'natlty1', 'guncertain1', 'individual', 'property', 'ishostkid', 'targtype1']\n",
        "for col in columns:\n",
        "    # needed for any missing values set to '-99' (the pre-defined unknown value for the column)\n",
        "    df[col] = [np.nan if (x < 0) or (x == 13 and (col == 'weaptype1' or col == 'weaptype2'\n",
        "               or col == 'weaptype3' or col == 'weaptype4')) or (x == 4 and col == 'propextent')\n",
        "               or (x == 8 and col == 'weapsubtype1') or (x == 999 and (col == 'location' or col == 'corp1'\n",
        "               or col == 'target1' or col == 'provstate' or col == 'city' or col == 'country' or col == 'region'))\n",
        "               else x for x in df[col].tolist()]\n",
        "    # calculate the mode of the column\n",
        "    column_temp = [0 if math.isnan(x) else x for x in df[col].tolist()]\n",
        "    mode = max(set(column_temp), key=column_temp.count)\n",
        "    # then apply the mode to all NaNs\n",
        "    df[col].fillna(mode, inplace=True)"
      ],
      "execution_count": 0,
      "outputs": []
    },
    {
      "cell_type": "markdown",
      "metadata": {
        "id": "0M-7dFrAk8lB",
        "colab_type": "text"
      },
      "source": [
        "### The NaN values of the following discrete numerical columns will be replaced with the mean of the available values, which will allow all of the detail of the column to be kept. It can be assumed from the small number of empty rows as well as the likelihood of occurring that the correct data wasn't available:"
      ]
    },
    {
      "cell_type": "code",
      "metadata": {
        "id": "I94OlBlzk8lC",
        "colab_type": "code",
        "colab": {}
      },
      "source": [
        "columns = ['nkill', 'nkillus', 'nkillter', 'nwound', 'nwoundus', 'nwoundte', 'propvalue', 'nperps', 'nperpcap',\n",
        "           'iyear', 'imonth', 'iday']\n",
        "for col in columns:\n",
        "    # needed for any missing values set to '-99'\n",
        "    df[col] = [np.nan if (x < 0) else x for x in df[col].tolist()]\n",
        "    # calculate the mean of the column\n",
        "    column_temp = [0 if math.isnan(x) else x for x in df[col].tolist()]\n",
        "    mean = round(np.mean(column_temp))\n",
        "    # then apply the mean to all NaNs\n",
        "    df[col].fillna(mean, inplace=True)"
      ],
      "execution_count": 0,
      "outputs": []
    },
    {
      "cell_type": "markdown",
      "metadata": {
        "id": "9TwCK7Yyk8lG",
        "colab_type": "text"
      },
      "source": [
        "### Dates aren't useful in their current format, so they will be converted to an ordinal value of how many days have passed since the first recorded date in the data set:"
      ]
    },
    {
      "cell_type": "code",
      "metadata": {
        "id": "js9Vumg0k8lH",
        "colab_type": "code",
        "colab": {}
      },
      "source": [
        "# change all of the 0s to 1, as 0 can't be used as a valid date\n",
        "columns = ['iday', 'imonth']\n",
        "for col in columns:\n",
        "    df[col] = [1 if int(x) == 0 else df[col].tolist()[idx]\n",
        "               for idx, x in enumerate(df[col].tolist())]\n",
        "# set the start_date to Jan, 1, 1970, which is the first recorded day in the data set\n",
        "start_date = datetime.date(1970, 1, 1)\n",
        "ndays = []\n",
        "# calculate how many days have passed from the start date\n",
        "for idx in range(len(df)):\n",
        "    date_of_attack = datetime.date(df['iyear'][idx], df['imonth'][idx], df['iday'][idx])\n",
        "    delta = date_of_attack - start_date\n",
        "    ndays.append(delta.days)\n",
        "# and store it in a new column in a dataframe called 'ndays'\n",
        "df['ndays'] = ndays"
      ],
      "execution_count": 0,
      "outputs": []
    },
    {
      "cell_type": "markdown",
      "metadata": {
        "id": "ErMfKW-Xk8lK",
        "colab_type": "text"
      },
      "source": [
        "### Finally, for all categorical variables, we need to convert them to one-shot encoding, so that our model can properly interpret them:"
      ]
    },
    {
      "cell_type": "code",
      "metadata": {
        "id": "Taca7MCrk8lM",
        "colab_type": "code",
        "colab": {}
      },
      "source": [
        "categorical = ['attacktype1', 'attacktype2', 'attacktype3', 'target1', 'target2', 'target3', 'targtype1', 'targtype2',\n",
        "               'targtype3', 'targsubtype1', 'targsubtype2', 'targsubtype3', 'natlty1', 'natlty2', 'natlty3',\n",
        "               'guncertain1', 'guncertain2', 'guncertain3', 'ransom', 'hostkidoutcome', 'ishostkid', 'extended',\n",
        "               'vicinity', 'INT_LOG', 'INT_IDEO', 'INT_MISC', 'INT_ANY', 'propextent', 'crit1', 'crit2', 'crit3',\n",
        "               'alternative', 'success', 'claimed', 'claim2', 'claim3', 'compclaim', 'claimmode', 'claimmode2',\n",
        "               'claimmode3', 'location', 'provstate', 'city', 'country', 'region', 'weaptype1', 'weaptype2',\n",
        "               'weaptype3', 'weaptype4', 'weapsubtype1', 'weapsubtype2', 'weapsubtype3','weapsubtype4', 'doubtterr',\n",
        "               'corp1', 'corp2', 'corp3', 'multiple', 'suicide', 'gsubname', 'gsubname2', 'gsubname3', 'individual',\n",
        "               'property']\n",
        "\n",
        "# Get one hot encoding for all categorical column\n",
        "one_hot = pd.get_dummies(data=df, columns=categorical)\n",
        "# Then join the one hot df to our dataframe\n",
        "df = pd.concat([df, one_hot], axis=1)\n",
        "for cat in categorical:\n",
        "    # Then drop the columns cause they're now encoded\n",
        "    df.drop(cat, inplace=True, axis=1)\n",
        "\n",
        "# Remove duplicate columns that were added from the join\n",
        "columns = list(df.columns)\n",
        "for idx, col in enumerate(df.columns):\n",
        "    if col in df.columns[:idx]: columns[idx] = \"to_drop\"\n",
        "df.columns = columns\n",
        "df = df.drop(\"to_drop\", 1)"
      ],
      "execution_count": 0,
      "outputs": []
    },
    {
      "cell_type": "markdown",
      "metadata": {
        "id": "PQplZg7bk8lR",
        "colab_type": "text"
      },
      "source": [
        "## Now it's time to make the model. As the goal of this challenge is to analyse variables to predict a DV ('gname'), I considered several classification models - such as logistic regression and NN - that could be suitable. Ultimately I opted to use a random forest for several reasons:\n",
        "\n",
        "## 1. Random forests can handle classification problems, which is needed cause my DV is a category\n",
        "## 2. They're highly effective, and don't suffer from overfitting, like simpler decision tree models\n",
        "## 3. They can handle missing values, of which my dataset has many\n",
        "## 4. Given the limited amount of time I felt more confident about being able to produce a reasonably effective model. Unlike a neural network, which could require a lot of adjusting and extensive processing time\n",
        "## 5. Finally, a random forest intuitively seemed like a good fit for this dataset, as I could visualise how the variables could be easily split across branches to form a prediction.\n",
        "\n",
        "### So lets get started on the model. We'll begin by importing the sklearn, matplotlib and seaborn packages, the former to create the RF and the others to create charts:"
      ]
    },
    {
      "cell_type": "code",
      "metadata": {
        "id": "1PTuX5JUk8lU",
        "colab_type": "code",
        "colab": {}
      },
      "source": [
        "import matplotlib.pyplot as plt\n",
        "from sklearn.ensemble import RandomForestClassifier\n",
        "from sklearn import metrics\n",
        "from sklearn.model_selection import train_test_split\n",
        "import seaborn as sns\n",
        "from sklearn.metrics import accuracy_score"
      ],
      "execution_count": 0,
      "outputs": []
    },
    {
      "cell_type": "markdown",
      "metadata": {
        "id": "efWiKSF0k8lZ",
        "colab_type": "text"
      },
      "source": [
        "### Next seperate the dataframe into its x and y variables, and then seperate it again into training and test sets, producing four sets:"
      ]
    },
    {
      "cell_type": "code",
      "metadata": {
        "id": "PmSGqPDqk8la",
        "colab_type": "code",
        "colab": {}
      },
      "source": [
        "y = df.loc[:, 'gname']\n",
        "df.drop('gname', inplace=True, axis=1)\n",
        "x = df\n",
        "# 70% training data, 30% test data\n",
        "# Split dataset into training set and test set\n",
        "training_x, test_x, training_y, test_y = train_test_split(x, y, test_size=0.3)"
      ],
      "execution_count": 0,
      "outputs": []
    },
    {
      "cell_type": "markdown",
      "metadata": {
        "id": "0BaPlm6Tk8lk",
        "colab_type": "text"
      },
      "source": [
        "### I created a classifier, adjusting the parameters to get the best result. I chose 128 trees, which is as many as I can use on my machine before it crashes, and is a good balance between predictive accuracy and computational economy. I played around with the other paramenters, and got the best results with these values:"
      ]
    },
    {
      "cell_type": "code",
      "metadata": {
        "id": "oheRhgWTk8ll",
        "colab_type": "code",
        "colab": {}
      },
      "source": [
        "classifier = RandomForestClassifier(n_estimators=128, max_features=0.2, min_samples_leaf=60, oob_score=True)"
      ],
      "execution_count": 0,
      "outputs": []
    },
    {
      "cell_type": "markdown",
      "metadata": {
        "id": "xVbLN9_pk8lo",
        "colab_type": "text"
      },
      "source": [
        "### Train the model using the training data"
      ]
    },
    {
      "cell_type": "code",
      "metadata": {
        "id": "UxnbQa6Yk8lp",
        "colab_type": "code",
        "outputId": "e63dffe8-51c2-41f6-ddd1-4b96e9ca239a",
        "colab": {}
      },
      "source": [
        "classifier.fit(training_x, training_y)"
      ],
      "execution_count": 0,
      "outputs": [
        {
          "output_type": "execute_result",
          "data": {
            "text/plain": [
              "RandomForestClassifier(bootstrap=True, class_weight=None, criterion='gini',\n",
              "            max_depth=None, max_features=0.2, max_leaf_nodes=None,\n",
              "            min_impurity_decrease=0.0, min_impurity_split=None,\n",
              "            min_samples_leaf=60, min_samples_split=2,\n",
              "            min_weight_fraction_leaf=0.0, n_estimators=128, n_jobs=1,\n",
              "            oob_score=True, random_state=None, verbose=0, warm_start=False)"
            ]
          },
          "metadata": {
            "tags": []
          },
          "execution_count": 37
        }
      ]
    },
    {
      "cell_type": "markdown",
      "metadata": {
        "id": "O5FveG5ak8lv",
        "colab_type": "text"
      },
      "source": [
        "### We can pass in the independent variables of the test set to form a prediction about our dependent variable:"
      ]
    },
    {
      "cell_type": "code",
      "metadata": {
        "id": "TFDIZqcLk8lw",
        "colab_type": "code",
        "colab": {}
      },
      "source": [
        "predict_y = classifier.predict(test_x)"
      ],
      "execution_count": 0,
      "outputs": []
    },
    {
      "cell_type": "markdown",
      "metadata": {
        "id": "qO2P8Q8ek8l0",
        "colab_type": "text"
      },
      "source": [
        "### We can view all of the predictions for the test set:"
      ]
    },
    {
      "cell_type": "code",
      "metadata": {
        "id": "8m3wNLtKk8l1",
        "colab_type": "code",
        "outputId": "f717c775-7424-458d-ca78-a0ed248e86cf",
        "colab": {}
      },
      "source": [
        "print(\"Predictions: \", predict_y)"
      ],
      "execution_count": 0,
      "outputs": [
        {
          "output_type": "stream",
          "text": [
            "Predictions:  [ 0  0 14 ... 24 13  0]\n"
          ],
          "name": "stdout"
        }
      ]
    },
    {
      "cell_type": "markdown",
      "metadata": {
        "id": "gtJnjNZuk8l9",
        "colab_type": "text"
      },
      "source": [
        "### The metrics.accuracy_score function shows how often our model is correct:"
      ]
    },
    {
      "cell_type": "code",
      "metadata": {
        "id": "PRRpicF6k8l-",
        "colab_type": "code",
        "outputId": "4c57669d-de88-48ac-efa9-458d1ca47b2e",
        "colab": {}
      },
      "source": [
        "print(\"Accuracy: \", accuracy_score(test_y, predict_y))"
      ],
      "execution_count": 0,
      "outputs": [
        {
          "output_type": "stream",
          "text": [
            "Accuracy:  0.591\n"
          ],
          "name": "stdout"
        }
      ]
    },
    {
      "cell_type": "markdown",
      "metadata": {
        "id": "qQwgz0VWk8mA",
        "colab_type": "text"
      },
      "source": [
        "### Create a series containing all of the feature importance scores:"
      ]
    },
    {
      "cell_type": "code",
      "metadata": {
        "id": "zVuv2gFHk8mC",
        "colab_type": "code",
        "outputId": "2b7e17dc-ae51-4ec2-fc3e-4ad374192876",
        "colab": {}
      },
      "source": [
        "feature_imp = pd.Series(classifier.feature_importances_, index=df.columns).sort_values(ascending=False)\n",
        "print(feature_imp[:10, ])"
      ],
      "execution_count": 0,
      "outputs": [
        {
          "output_type": "stream",
          "text": [
            "INT_IDEO_1.0       0.071073\n",
            "INT_IDEO_0.0       0.068251\n",
            "longitude          0.065658\n",
            "latitude           0.062452\n",
            "ndays              0.047114\n",
            "guncertain1_0.0    0.043923\n",
            "claimed_1.0        0.043311\n",
            "guncertain1_1.0    0.039443\n",
            "claimed_0.0        0.037589\n",
            "eventid            0.035680\n",
            "dtype: float64\n"
          ],
          "name": "stdout"
        }
      ]
    },
    {
      "cell_type": "markdown",
      "metadata": {
        "id": "FRE3K8S8k8mF",
        "colab_type": "text"
      },
      "source": [
        "### There's a big drop-off after the first ten or so columns, so let's create a graph just focussing on them:"
      ]
    },
    {
      "cell_type": "code",
      "metadata": {
        "id": "EXeUMMPXk8mG",
        "colab_type": "code",
        "outputId": "a6608cb5-98e1-4517-9a95-85d410f1a9e7",
        "colab": {}
      },
      "source": [
        "# Creating a bar plot showing top 10 most important features\n",
        "sns.barplot(x=feature_imp[:10, ], y=feature_imp.index[:10, ])\n",
        "# Create labels for the graph\n",
        "plt.xlabel('Variable Importance Score')\n",
        "plt.ylabel('Variables')\n",
        "plt.title('The Ten Most Important Variables')\n",
        "plt.show()"
      ],
      "execution_count": 0,
      "outputs": [
        {
          "output_type": "display_data",
          "data": {
            "image/png": "[encoded data removed]",
            "text/plain": [
              "<Figure size 432x288 with 1 Axes>"
            ]
          },
          "metadata": {
            "tags": [],
            "needs_background": "light"
          }
        }
      ]
    },
    {
      "cell_type": "markdown",
      "metadata": {
        "id": "je4ftZJgk8mJ",
        "colab_type": "text"
      },
      "source": [
        "### Lets remove all of the non-important features, which may help improve the performance of our good ones:"
      ]
    },
    {
      "cell_type": "code",
      "metadata": {
        "id": "24cjuqCGk8mK",
        "colab_type": "code",
        "colab": {}
      },
      "source": [
        "unimportant_features = list(feature_imp.index[10:, ])\n",
        "# Now drop them from the dataframe and run the model again:\n",
        "df.drop(unimportant_features, inplace=True, axis=1)\n",
        "\n",
        "# Make sure 'gname' isn't removed\n",
        "df['gname'] = y"
      ],
      "execution_count": 0,
      "outputs": []
    },
    {
      "cell_type": "markdown",
      "metadata": {
        "id": "B7QZ0cisk8mN",
        "colab_type": "text"
      },
      "source": [
        "### Then rerun the above code train the model and test it again:"
      ]
    },
    {
      "cell_type": "code",
      "metadata": {
        "scrolled": false,
        "id": "3LLe6zmkk8mP",
        "colab_type": "code",
        "outputId": "ace968eb-15a1-4ef6-d25f-099419a85ca1",
        "colab": {}
      },
      "source": [
        "y = df.loc[:, 'gname']\n",
        "df.drop('gname', inplace=True, axis=1)\n",
        "x = df\n",
        "# 70% training data, 30% test data\n",
        "# Split dataset into training set and test set\n",
        "training_x, test_x, training_y, test_y = train_test_split(x, y, test_size=0.3)\n",
        "\n",
        "classifier = RandomForestClassifier(n_estimators=128)\n",
        "\n",
        "classifier.fit(training_x, training_y)\n",
        "\n",
        "predict_y = classifier.predict(test_x)\n",
        "\n",
        "print(\"Accuracy: \", accuracy_score(test_y, predict_y))\n",
        "\n",
        "feature_imp = pd.Series(classifier.feature_importances_, index=df.columns).sort_values(ascending=False)\n",
        "print(feature_imp)\n",
        "\n",
        "barplot = sns.barplot(x=feature_imp, y=feature_imp.index)\n",
        "barplot.set(yticklabels=[])\n",
        "# Create labels for the graph\n",
        "plt.xlabel('Variable Importance Score')\n",
        "plt.ylabel('Variables')\n",
        "plt.title('Visualizing Important Variables')\n",
        "plt.show()"
      ],
      "execution_count": 0,
      "outputs": [
        {
          "output_type": "stream",
          "text": [
            "Accuracy:  0.6943333333333334\n",
            "longitude          0.255489\n",
            "latitude           0.249419\n",
            "ndays              0.186652\n",
            "eventid            0.184552\n",
            "INT_IDEO_1.0       0.025978\n",
            "INT_IDEO_0.0       0.024584\n",
            "claimed_1.0        0.022858\n",
            "guncertain1_0.0    0.018936\n",
            "claimed_0.0        0.016170\n",
            "guncertain1_1.0    0.015363\n",
            "dtype: float64\n"
          ],
          "name": "stdout"
        },
        {
          "output_type": "display_data",
          "data": {
            "image/png": "[encoded data removed]",
            "text/plain": [
              "<Figure size 432x288 with 1 Axes>"
            ]
          },
          "metadata": {
            "tags": [],
            "needs_background": "light"
          }
        }
      ]
    },
    {
      "cell_type": "markdown",
      "metadata": {
        "id": "s1TjzQfDk8mW",
        "colab_type": "text"
      },
      "source": [
        "### After removing the unimportant rows the model's accuracy increased from 0.591 to 0.6943, which is a marked improvement, and is all I could complete given the limited scope of the challenge."
      ]
    }
  ]
}